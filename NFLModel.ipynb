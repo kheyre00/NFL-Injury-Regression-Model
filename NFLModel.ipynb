{
 "cells": [
  {
   "attachments": {},
   "cell_type": "markdown",
   "id": "c835daef",
   "metadata": {},
   "source": [
    "Here in this cell we are importing some important libraries for data prepration, data processing and for machine learning models"
   ]
  },
  {
   "cell_type": "code",
   "execution_count": 2,
   "id": "d1076542",
   "metadata": {},
   "outputs": [],
   "source": [
    "# Importing Libraries \n",
    "import pandas as pd\n",
    "import numpy as np\n",
    "import seaborn as sns\n",
    "import matplotlib.pyplot as plt\n",
    "from sklearn.linear_model import LogisticRegression\n",
    "from sklearn.model_selection import train_test_split\n",
    "from sklearn.metrics import classification_report, confusion_matrix, accuracy_score"
   ]
  },
  {
   "cell_type": "markdown",
   "id": "27f2c7e8",
   "metadata": {},
   "source": [
    "Here, in the below cell we are Reading and displaying the data, data info, and summary statistics."
   ]
  },
  {
   "cell_type": "code",
   "execution_count": 4,
   "id": "cb442a73",
   "metadata": {},
   "outputs": [
    {
     "data": {
      "text/html": [
       "<div>\n",
       "<style scoped>\n",
       "    .dataframe tbody tr th:only-of-type {\n",
       "        vertical-align: middle;\n",
       "    }\n",
       "\n",
       "    .dataframe tbody tr th {\n",
       "        vertical-align: top;\n",
       "    }\n",
       "\n",
       "    .dataframe thead th {\n",
       "        text-align: right;\n",
       "    }\n",
       "</style>\n",
       "<table border=\"1\" class=\"dataframe\">\n",
       "  <thead>\n",
       "    <tr style=\"text-align: right;\">\n",
       "      <th></th>\n",
       "      <th>PlayerKey</th>\n",
       "      <th>GameID</th>\n",
       "      <th>PlayKey</th>\n",
       "      <th>BodyPart</th>\n",
       "      <th>Surface</th>\n",
       "      <th>DM_M1</th>\n",
       "      <th>DM_M7</th>\n",
       "      <th>DM_M28</th>\n",
       "      <th>DM_M42</th>\n",
       "    </tr>\n",
       "  </thead>\n",
       "  <tbody>\n",
       "    <tr>\n",
       "      <th>0</th>\n",
       "      <td>39873</td>\n",
       "      <td>39873-4</td>\n",
       "      <td>39873-4-32</td>\n",
       "      <td>Knee</td>\n",
       "      <td>Synthetic</td>\n",
       "      <td>1</td>\n",
       "      <td>1</td>\n",
       "      <td>1</td>\n",
       "      <td>1</td>\n",
       "    </tr>\n",
       "    <tr>\n",
       "      <th>1</th>\n",
       "      <td>46074</td>\n",
       "      <td>46074-7</td>\n",
       "      <td>46074-7-26</td>\n",
       "      <td>Knee</td>\n",
       "      <td>Natural</td>\n",
       "      <td>1</td>\n",
       "      <td>1</td>\n",
       "      <td>0</td>\n",
       "      <td>0</td>\n",
       "    </tr>\n",
       "    <tr>\n",
       "      <th>2</th>\n",
       "      <td>36557</td>\n",
       "      <td>36557-1</td>\n",
       "      <td>36557-1-70</td>\n",
       "      <td>Ankle</td>\n",
       "      <td>Synthetic</td>\n",
       "      <td>1</td>\n",
       "      <td>1</td>\n",
       "      <td>1</td>\n",
       "      <td>1</td>\n",
       "    </tr>\n",
       "    <tr>\n",
       "      <th>3</th>\n",
       "      <td>46646</td>\n",
       "      <td>46646-3</td>\n",
       "      <td>46646-3-30</td>\n",
       "      <td>Ankle</td>\n",
       "      <td>Natural</td>\n",
       "      <td>1</td>\n",
       "      <td>0</td>\n",
       "      <td>0</td>\n",
       "      <td>0</td>\n",
       "    </tr>\n",
       "    <tr>\n",
       "      <th>4</th>\n",
       "      <td>43532</td>\n",
       "      <td>43532-5</td>\n",
       "      <td>43532-5-69</td>\n",
       "      <td>Ankle</td>\n",
       "      <td>Synthetic</td>\n",
       "      <td>1</td>\n",
       "      <td>1</td>\n",
       "      <td>1</td>\n",
       "      <td>1</td>\n",
       "    </tr>\n",
       "  </tbody>\n",
       "</table>\n",
       "</div>"
      ],
      "text/plain": [
       "   PlayerKey   GameID     PlayKey BodyPart    Surface  DM_M1  DM_M7  DM_M28  \\\n",
       "0      39873  39873-4  39873-4-32     Knee  Synthetic      1      1       1   \n",
       "1      46074  46074-7  46074-7-26     Knee    Natural      1      1       0   \n",
       "2      36557  36557-1  36557-1-70    Ankle  Synthetic      1      1       1   \n",
       "3      46646  46646-3  46646-3-30    Ankle    Natural      1      0       0   \n",
       "4      43532  43532-5  43532-5-69    Ankle  Synthetic      1      1       1   \n",
       "\n",
       "   DM_M42  \n",
       "0       1  \n",
       "1       0  \n",
       "2       1  \n",
       "3       0  \n",
       "4       1  "
      ]
     },
     "execution_count": 4,
     "metadata": {},
     "output_type": "execute_result"
    }
   ],
   "source": [
    "# Loading dataset\n",
    "injury_record = pd.read_csv('InjuryRecord.csv')\n",
    "injury_record.head()"
   ]
  },
  {
   "cell_type": "code",
   "execution_count": 5,
   "id": "ea09a8a4",
   "metadata": {},
   "outputs": [
    {
     "data": {
      "text/plain": [
       "(105, 9)"
      ]
     },
     "execution_count": 5,
     "metadata": {},
     "output_type": "execute_result"
    }
   ],
   "source": [
    "# displaying Shape of data\n",
    "injury_record.shape"
   ]
  },
  {
   "cell_type": "code",
   "execution_count": 6,
   "id": "cd5b7780",
   "metadata": {
    "scrolled": true
   },
   "outputs": [
    {
     "name": "stdout",
     "output_type": "stream",
     "text": [
      "PlayerKey     0\n",
      "GameID        0\n",
      "PlayKey      28\n",
      "BodyPart      0\n",
      "Surface       0\n",
      "DM_M1         0\n",
      "DM_M7         0\n",
      "DM_M28        0\n",
      "DM_M42        0\n",
      "dtype: int64\n"
     ]
    }
   ],
   "source": [
    "# Displaying missing values by each column\n",
    "print(injury_record.isnull().sum())"
   ]
  },
  {
   "cell_type": "code",
   "execution_count": 7,
   "id": "2de9720c",
   "metadata": {},
   "outputs": [
    {
     "data": {
      "text/html": [
       "<div>\n",
       "<style scoped>\n",
       "    .dataframe tbody tr th:only-of-type {\n",
       "        vertical-align: middle;\n",
       "    }\n",
       "\n",
       "    .dataframe tbody tr th {\n",
       "        vertical-align: top;\n",
       "    }\n",
       "\n",
       "    .dataframe thead th {\n",
       "        text-align: right;\n",
       "    }\n",
       "</style>\n",
       "<table border=\"1\" class=\"dataframe\">\n",
       "  <thead>\n",
       "    <tr style=\"text-align: right;\">\n",
       "      <th></th>\n",
       "      <th>PlayerKey</th>\n",
       "      <th>GameID</th>\n",
       "      <th>PlayKey</th>\n",
       "      <th>RosterPosition</th>\n",
       "      <th>PlayerDay</th>\n",
       "      <th>PlayerGame</th>\n",
       "      <th>StadiumType</th>\n",
       "      <th>FieldType</th>\n",
       "      <th>Temperature</th>\n",
       "      <th>Weather</th>\n",
       "      <th>PlayType</th>\n",
       "      <th>PlayerGamePlay</th>\n",
       "      <th>Position</th>\n",
       "      <th>PositionGroup</th>\n",
       "    </tr>\n",
       "  </thead>\n",
       "  <tbody>\n",
       "    <tr>\n",
       "      <th>0</th>\n",
       "      <td>26624</td>\n",
       "      <td>26624-1</td>\n",
       "      <td>26624-1-1</td>\n",
       "      <td>Quarterback</td>\n",
       "      <td>1</td>\n",
       "      <td>1</td>\n",
       "      <td>Outdoor</td>\n",
       "      <td>Synthetic</td>\n",
       "      <td>63</td>\n",
       "      <td>Clear and warm</td>\n",
       "      <td>Pass</td>\n",
       "      <td>1</td>\n",
       "      <td>QB</td>\n",
       "      <td>QB</td>\n",
       "    </tr>\n",
       "    <tr>\n",
       "      <th>1</th>\n",
       "      <td>26624</td>\n",
       "      <td>26624-1</td>\n",
       "      <td>26624-1-2</td>\n",
       "      <td>Quarterback</td>\n",
       "      <td>1</td>\n",
       "      <td>1</td>\n",
       "      <td>Outdoor</td>\n",
       "      <td>Synthetic</td>\n",
       "      <td>63</td>\n",
       "      <td>Clear and warm</td>\n",
       "      <td>Pass</td>\n",
       "      <td>2</td>\n",
       "      <td>QB</td>\n",
       "      <td>QB</td>\n",
       "    </tr>\n",
       "    <tr>\n",
       "      <th>2</th>\n",
       "      <td>26624</td>\n",
       "      <td>26624-1</td>\n",
       "      <td>26624-1-3</td>\n",
       "      <td>Quarterback</td>\n",
       "      <td>1</td>\n",
       "      <td>1</td>\n",
       "      <td>Outdoor</td>\n",
       "      <td>Synthetic</td>\n",
       "      <td>63</td>\n",
       "      <td>Clear and warm</td>\n",
       "      <td>Rush</td>\n",
       "      <td>3</td>\n",
       "      <td>QB</td>\n",
       "      <td>QB</td>\n",
       "    </tr>\n",
       "    <tr>\n",
       "      <th>3</th>\n",
       "      <td>26624</td>\n",
       "      <td>26624-1</td>\n",
       "      <td>26624-1-4</td>\n",
       "      <td>Quarterback</td>\n",
       "      <td>1</td>\n",
       "      <td>1</td>\n",
       "      <td>Outdoor</td>\n",
       "      <td>Synthetic</td>\n",
       "      <td>63</td>\n",
       "      <td>Clear and warm</td>\n",
       "      <td>Rush</td>\n",
       "      <td>4</td>\n",
       "      <td>QB</td>\n",
       "      <td>QB</td>\n",
       "    </tr>\n",
       "    <tr>\n",
       "      <th>4</th>\n",
       "      <td>26624</td>\n",
       "      <td>26624-1</td>\n",
       "      <td>26624-1-5</td>\n",
       "      <td>Quarterback</td>\n",
       "      <td>1</td>\n",
       "      <td>1</td>\n",
       "      <td>Outdoor</td>\n",
       "      <td>Synthetic</td>\n",
       "      <td>63</td>\n",
       "      <td>Clear and warm</td>\n",
       "      <td>Pass</td>\n",
       "      <td>5</td>\n",
       "      <td>QB</td>\n",
       "      <td>QB</td>\n",
       "    </tr>\n",
       "  </tbody>\n",
       "</table>\n",
       "</div>"
      ],
      "text/plain": [
       "   PlayerKey   GameID    PlayKey RosterPosition  PlayerDay  PlayerGame  \\\n",
       "0      26624  26624-1  26624-1-1    Quarterback          1           1   \n",
       "1      26624  26624-1  26624-1-2    Quarterback          1           1   \n",
       "2      26624  26624-1  26624-1-3    Quarterback          1           1   \n",
       "3      26624  26624-1  26624-1-4    Quarterback          1           1   \n",
       "4      26624  26624-1  26624-1-5    Quarterback          1           1   \n",
       "\n",
       "  StadiumType  FieldType  Temperature         Weather PlayType  \\\n",
       "0     Outdoor  Synthetic           63  Clear and warm     Pass   \n",
       "1     Outdoor  Synthetic           63  Clear and warm     Pass   \n",
       "2     Outdoor  Synthetic           63  Clear and warm     Rush   \n",
       "3     Outdoor  Synthetic           63  Clear and warm     Rush   \n",
       "4     Outdoor  Synthetic           63  Clear and warm     Pass   \n",
       "\n",
       "   PlayerGamePlay Position PositionGroup  \n",
       "0               1       QB            QB  \n",
       "1               2       QB            QB  \n",
       "2               3       QB            QB  \n",
       "3               4       QB            QB  \n",
       "4               5       QB            QB  "
      ]
     },
     "execution_count": 7,
     "metadata": {},
     "output_type": "execute_result"
    }
   ],
   "source": [
    "# Loading other play_list data\n",
    "play_list = pd.read_csv('PlayList.csv')\n",
    "play_list.head()"
   ]
  },
  {
   "cell_type": "code",
   "execution_count": 8,
   "id": "3a69e9c0",
   "metadata": {},
   "outputs": [
    {
     "data": {
      "text/html": [
       "<div>\n",
       "<style scoped>\n",
       "    .dataframe tbody tr th:only-of-type {\n",
       "        vertical-align: middle;\n",
       "    }\n",
       "\n",
       "    .dataframe tbody tr th {\n",
       "        vertical-align: top;\n",
       "    }\n",
       "\n",
       "    .dataframe thead th {\n",
       "        text-align: right;\n",
       "    }\n",
       "</style>\n",
       "<table border=\"1\" class=\"dataframe\">\n",
       "  <thead>\n",
       "    <tr style=\"text-align: right;\">\n",
       "      <th></th>\n",
       "      <th>PlayerKey_x</th>\n",
       "      <th>GameID</th>\n",
       "      <th>PlayKey_x</th>\n",
       "      <th>BodyPart</th>\n",
       "      <th>Surface</th>\n",
       "      <th>DM_M1</th>\n",
       "      <th>DM_M7</th>\n",
       "      <th>DM_M28</th>\n",
       "      <th>DM_M42</th>\n",
       "      <th>PlayerKey_y</th>\n",
       "      <th>...</th>\n",
       "      <th>PlayerDay</th>\n",
       "      <th>PlayerGame</th>\n",
       "      <th>StadiumType</th>\n",
       "      <th>FieldType</th>\n",
       "      <th>Temperature</th>\n",
       "      <th>Weather</th>\n",
       "      <th>PlayType</th>\n",
       "      <th>PlayerGamePlay</th>\n",
       "      <th>Position</th>\n",
       "      <th>PositionGroup</th>\n",
       "    </tr>\n",
       "  </thead>\n",
       "  <tbody>\n",
       "    <tr>\n",
       "      <th>0</th>\n",
       "      <td>39873</td>\n",
       "      <td>39873-4</td>\n",
       "      <td>39873-4-32</td>\n",
       "      <td>Knee</td>\n",
       "      <td>Synthetic</td>\n",
       "      <td>1</td>\n",
       "      <td>1</td>\n",
       "      <td>1</td>\n",
       "      <td>1</td>\n",
       "      <td>39873</td>\n",
       "      <td>...</td>\n",
       "      <td>29</td>\n",
       "      <td>4</td>\n",
       "      <td>Indoors</td>\n",
       "      <td>Synthetic</td>\n",
       "      <td>84</td>\n",
       "      <td>Cloudy</td>\n",
       "      <td>Kickoff</td>\n",
       "      <td>1</td>\n",
       "      <td>OLB</td>\n",
       "      <td>LB</td>\n",
       "    </tr>\n",
       "    <tr>\n",
       "      <th>32</th>\n",
       "      <td>46074</td>\n",
       "      <td>46074-7</td>\n",
       "      <td>46074-7-26</td>\n",
       "      <td>Knee</td>\n",
       "      <td>Natural</td>\n",
       "      <td>1</td>\n",
       "      <td>1</td>\n",
       "      <td>0</td>\n",
       "      <td>0</td>\n",
       "      <td>46074</td>\n",
       "      <td>...</td>\n",
       "      <td>50</td>\n",
       "      <td>7</td>\n",
       "      <td>Open</td>\n",
       "      <td>Natural</td>\n",
       "      <td>76</td>\n",
       "      <td>Partly Cloudy</td>\n",
       "      <td>Kickoff</td>\n",
       "      <td>1</td>\n",
       "      <td>OLB</td>\n",
       "      <td>LB</td>\n",
       "    </tr>\n",
       "    <tr>\n",
       "      <th>58</th>\n",
       "      <td>36557</td>\n",
       "      <td>36557-1</td>\n",
       "      <td>36557-1-70</td>\n",
       "      <td>Ankle</td>\n",
       "      <td>Synthetic</td>\n",
       "      <td>1</td>\n",
       "      <td>1</td>\n",
       "      <td>1</td>\n",
       "      <td>1</td>\n",
       "      <td>36557</td>\n",
       "      <td>...</td>\n",
       "      <td>1</td>\n",
       "      <td>1</td>\n",
       "      <td>Outdoor</td>\n",
       "      <td>Synthetic</td>\n",
       "      <td>63</td>\n",
       "      <td>Clear and warm</td>\n",
       "      <td>Pass</td>\n",
       "      <td>1</td>\n",
       "      <td>SS</td>\n",
       "      <td>DB</td>\n",
       "    </tr>\n",
       "    <tr>\n",
       "      <th>128</th>\n",
       "      <td>46646</td>\n",
       "      <td>46646-3</td>\n",
       "      <td>46646-3-30</td>\n",
       "      <td>Ankle</td>\n",
       "      <td>Natural</td>\n",
       "      <td>1</td>\n",
       "      <td>0</td>\n",
       "      <td>0</td>\n",
       "      <td>0</td>\n",
       "      <td>46646</td>\n",
       "      <td>...</td>\n",
       "      <td>15</td>\n",
       "      <td>3</td>\n",
       "      <td>Outdoor</td>\n",
       "      <td>Natural</td>\n",
       "      <td>80</td>\n",
       "      <td>Cloudy</td>\n",
       "      <td>Kickoff</td>\n",
       "      <td>1</td>\n",
       "      <td>LB</td>\n",
       "      <td>LB</td>\n",
       "    </tr>\n",
       "    <tr>\n",
       "      <th>158</th>\n",
       "      <td>43532</td>\n",
       "      <td>43532-5</td>\n",
       "      <td>43532-5-69</td>\n",
       "      <td>Ankle</td>\n",
       "      <td>Synthetic</td>\n",
       "      <td>1</td>\n",
       "      <td>1</td>\n",
       "      <td>1</td>\n",
       "      <td>1</td>\n",
       "      <td>43532</td>\n",
       "      <td>...</td>\n",
       "      <td>32</td>\n",
       "      <td>5</td>\n",
       "      <td>Retractable Roof</td>\n",
       "      <td>Synthetic</td>\n",
       "      <td>89</td>\n",
       "      <td>Partly Cloudy</td>\n",
       "      <td>Rush</td>\n",
       "      <td>1</td>\n",
       "      <td>WR</td>\n",
       "      <td>WR</td>\n",
       "    </tr>\n",
       "  </tbody>\n",
       "</table>\n",
       "<p>5 rows × 22 columns</p>\n",
       "</div>"
      ],
      "text/plain": [
       "     PlayerKey_x   GameID   PlayKey_x BodyPart    Surface  DM_M1  DM_M7  \\\n",
       "0          39873  39873-4  39873-4-32     Knee  Synthetic      1      1   \n",
       "32         46074  46074-7  46074-7-26     Knee    Natural      1      1   \n",
       "58         36557  36557-1  36557-1-70    Ankle  Synthetic      1      1   \n",
       "128        46646  46646-3  46646-3-30    Ankle    Natural      1      0   \n",
       "158        43532  43532-5  43532-5-69    Ankle  Synthetic      1      1   \n",
       "\n",
       "     DM_M28  DM_M42  PlayerKey_y  ... PlayerDay PlayerGame       StadiumType  \\\n",
       "0         1       1        39873  ...        29          4           Indoors   \n",
       "32        0       0        46074  ...        50          7              Open   \n",
       "58        1       1        36557  ...         1          1           Outdoor   \n",
       "128       0       0        46646  ...        15          3           Outdoor   \n",
       "158       1       1        43532  ...        32          5  Retractable Roof   \n",
       "\n",
       "     FieldType Temperature         Weather  PlayType PlayerGamePlay Position  \\\n",
       "0    Synthetic          84          Cloudy   Kickoff              1      OLB   \n",
       "32     Natural          76   Partly Cloudy   Kickoff              1      OLB   \n",
       "58   Synthetic          63  Clear and warm      Pass              1       SS   \n",
       "128    Natural          80          Cloudy   Kickoff              1       LB   \n",
       "158  Synthetic          89   Partly Cloudy      Rush              1       WR   \n",
       "\n",
       "     PositionGroup  \n",
       "0               LB  \n",
       "32              LB  \n",
       "58              DB  \n",
       "128             LB  \n",
       "158             WR  \n",
       "\n",
       "[5 rows x 22 columns]"
      ]
     },
     "execution_count": 8,
     "metadata": {},
     "output_type": "execute_result"
    }
   ],
   "source": [
    "# Merging both datasets( injuryRecords and Play_list)\n",
    "df = pd.merge(injury_record, play_list, on='GameID', how='left').drop_duplicates(subset=['GameID'])\n",
    "df.head()"
   ]
  },
  {
   "cell_type": "markdown",
   "id": "7724b819",
   "metadata": {},
   "source": [
    "### Exploratory Data Analysis"
   ]
  },
  {
   "attachments": {},
   "cell_type": "markdown",
   "id": "00705343",
   "metadata": {},
   "source": [
    "### Finding the statistical Summaries"
   ]
  },
  {
   "cell_type": "markdown",
   "id": "00b5008d",
   "metadata": {},
   "source": [
    "Here, we are displaying the descriptive summary of dataset by .info() method"
   ]
  },
  {
   "cell_type": "code",
   "execution_count": 24,
   "id": "9de07cb0",
   "metadata": {},
   "outputs": [
    {
     "name": "stdout",
     "output_type": "stream",
     "text": [
      "<class 'pandas.core.frame.DataFrame'>\n",
      "Int64Index: 104 entries, 0 to 3381\n",
      "Data columns (total 22 columns):\n",
      " #   Column          Non-Null Count  Dtype \n",
      "---  ------          --------------  ----- \n",
      " 0   PlayerKey_x     104 non-null    int64 \n",
      " 1   GameID          104 non-null    object\n",
      " 2   PlayKey_x       76 non-null     object\n",
      " 3   BodyPart        104 non-null    object\n",
      " 4   Surface         104 non-null    object\n",
      " 5   DM_M1           104 non-null    int64 \n",
      " 6   DM_M7           104 non-null    int64 \n",
      " 7   DM_M28          104 non-null    int64 \n",
      " 8   DM_M42          104 non-null    int64 \n",
      " 9   PlayerKey_y     104 non-null    int64 \n",
      " 10  PlayKey_y       104 non-null    object\n",
      " 11  RosterPosition  104 non-null    object\n",
      " 12  PlayerDay       104 non-null    int64 \n",
      " 13  PlayerGame      104 non-null    int64 \n",
      " 14  StadiumType     99 non-null     object\n",
      " 15  FieldType       104 non-null    object\n",
      " 16  Temperature     104 non-null    int64 \n",
      " 17  Weather         97 non-null     object\n",
      " 18  PlayType        104 non-null    object\n",
      " 19  PlayerGamePlay  104 non-null    int64 \n",
      " 20  Position        104 non-null    object\n",
      " 21  PositionGroup   104 non-null    object\n",
      "dtypes: int64(10), object(12)\n",
      "memory usage: 18.7+ KB\n"
     ]
    }
   ],
   "source": [
    "# A summary of the dataframe with .info()\n",
    "df.info()"
   ]
  },
  {
   "cell_type": "markdown",
   "id": "463cb6b5",
   "metadata": {},
   "source": [
    "Here we are displaying the Statistical summary of the numeric values, like percentile, mean, standard deviation etc."
   ]
  },
  {
   "cell_type": "code",
   "execution_count": 25,
   "id": "ec3acca0",
   "metadata": {},
   "outputs": [
    {
     "data": {
      "text/html": [
       "<div>\n",
       "<style scoped>\n",
       "    .dataframe tbody tr th:only-of-type {\n",
       "        vertical-align: middle;\n",
       "    }\n",
       "\n",
       "    .dataframe tbody tr th {\n",
       "        vertical-align: top;\n",
       "    }\n",
       "\n",
       "    .dataframe thead th {\n",
       "        text-align: right;\n",
       "    }\n",
       "</style>\n",
       "<table border=\"1\" class=\"dataframe\">\n",
       "  <thead>\n",
       "    <tr style=\"text-align: right;\">\n",
       "      <th></th>\n",
       "      <th>PlayerKey_x</th>\n",
       "      <th>DM_M1</th>\n",
       "      <th>DM_M7</th>\n",
       "      <th>DM_M28</th>\n",
       "      <th>DM_M42</th>\n",
       "      <th>PlayerKey_y</th>\n",
       "      <th>PlayerDay</th>\n",
       "      <th>PlayerGame</th>\n",
       "      <th>Temperature</th>\n",
       "      <th>PlayerGamePlay</th>\n",
       "    </tr>\n",
       "  </thead>\n",
       "  <tbody>\n",
       "    <tr>\n",
       "      <th>count</th>\n",
       "      <td>104.000000</td>\n",
       "      <td>104.0</td>\n",
       "      <td>104.000000</td>\n",
       "      <td>104.000000</td>\n",
       "      <td>104.000000</td>\n",
       "      <td>104.000000</td>\n",
       "      <td>104.000000</td>\n",
       "      <td>104.000000</td>\n",
       "      <td>104.000000</td>\n",
       "      <td>104.000000</td>\n",
       "    </tr>\n",
       "    <tr>\n",
       "      <th>mean</th>\n",
       "      <td>42235.307692</td>\n",
       "      <td>1.0</td>\n",
       "      <td>0.721154</td>\n",
       "      <td>0.355769</td>\n",
       "      <td>0.278846</td>\n",
       "      <td>42235.307692</td>\n",
       "      <td>140.750000</td>\n",
       "      <td>9.365385</td>\n",
       "      <td>-16.480769</td>\n",
       "      <td>1.096154</td>\n",
       "    </tr>\n",
       "    <tr>\n",
       "      <th>std</th>\n",
       "      <td>4154.006184</td>\n",
       "      <td>0.0</td>\n",
       "      <td>0.450603</td>\n",
       "      <td>0.481064</td>\n",
       "      <td>0.450603</td>\n",
       "      <td>4154.006184</td>\n",
       "      <td>166.820743</td>\n",
       "      <td>6.996612</td>\n",
       "      <td>285.395926</td>\n",
       "      <td>0.980581</td>\n",
       "    </tr>\n",
       "    <tr>\n",
       "      <th>min</th>\n",
       "      <td>31070.000000</td>\n",
       "      <td>1.0</td>\n",
       "      <td>0.000000</td>\n",
       "      <td>0.000000</td>\n",
       "      <td>0.000000</td>\n",
       "      <td>31070.000000</td>\n",
       "      <td>-34.000000</td>\n",
       "      <td>1.000000</td>\n",
       "      <td>-999.000000</td>\n",
       "      <td>1.000000</td>\n",
       "    </tr>\n",
       "    <tr>\n",
       "      <th>25%</th>\n",
       "      <td>39655.250000</td>\n",
       "      <td>1.0</td>\n",
       "      <td>0.000000</td>\n",
       "      <td>0.000000</td>\n",
       "      <td>0.000000</td>\n",
       "      <td>39655.250000</td>\n",
       "      <td>21.750000</td>\n",
       "      <td>4.000000</td>\n",
       "      <td>46.750000</td>\n",
       "      <td>1.000000</td>\n",
       "    </tr>\n",
       "    <tr>\n",
       "      <th>50%</th>\n",
       "      <td>43511.500000</td>\n",
       "      <td>1.0</td>\n",
       "      <td>1.000000</td>\n",
       "      <td>0.000000</td>\n",
       "      <td>0.000000</td>\n",
       "      <td>43511.500000</td>\n",
       "      <td>57.500000</td>\n",
       "      <td>8.000000</td>\n",
       "      <td>68.000000</td>\n",
       "      <td>1.000000</td>\n",
       "    </tr>\n",
       "    <tr>\n",
       "      <th>75%</th>\n",
       "      <td>45963.000000</td>\n",
       "      <td>1.0</td>\n",
       "      <td>1.000000</td>\n",
       "      <td>1.000000</td>\n",
       "      <td>1.000000</td>\n",
       "      <td>45963.000000</td>\n",
       "      <td>359.750000</td>\n",
       "      <td>13.000000</td>\n",
       "      <td>76.000000</td>\n",
       "      <td>1.000000</td>\n",
       "    </tr>\n",
       "    <tr>\n",
       "      <th>max</th>\n",
       "      <td>47813.000000</td>\n",
       "      <td>1.0</td>\n",
       "      <td>1.000000</td>\n",
       "      <td>1.000000</td>\n",
       "      <td>1.000000</td>\n",
       "      <td>47813.000000</td>\n",
       "      <td>471.000000</td>\n",
       "      <td>30.000000</td>\n",
       "      <td>89.000000</td>\n",
       "      <td>11.000000</td>\n",
       "    </tr>\n",
       "  </tbody>\n",
       "</table>\n",
       "</div>"
      ],
      "text/plain": [
       "        PlayerKey_x  DM_M1       DM_M7      DM_M28      DM_M42   PlayerKey_y  \\\n",
       "count    104.000000  104.0  104.000000  104.000000  104.000000    104.000000   \n",
       "mean   42235.307692    1.0    0.721154    0.355769    0.278846  42235.307692   \n",
       "std     4154.006184    0.0    0.450603    0.481064    0.450603   4154.006184   \n",
       "min    31070.000000    1.0    0.000000    0.000000    0.000000  31070.000000   \n",
       "25%    39655.250000    1.0    0.000000    0.000000    0.000000  39655.250000   \n",
       "50%    43511.500000    1.0    1.000000    0.000000    0.000000  43511.500000   \n",
       "75%    45963.000000    1.0    1.000000    1.000000    1.000000  45963.000000   \n",
       "max    47813.000000    1.0    1.000000    1.000000    1.000000  47813.000000   \n",
       "\n",
       "        PlayerDay  PlayerGame  Temperature  PlayerGamePlay  \n",
       "count  104.000000  104.000000   104.000000      104.000000  \n",
       "mean   140.750000    9.365385   -16.480769        1.096154  \n",
       "std    166.820743    6.996612   285.395926        0.980581  \n",
       "min    -34.000000    1.000000  -999.000000        1.000000  \n",
       "25%     21.750000    4.000000    46.750000        1.000000  \n",
       "50%     57.500000    8.000000    68.000000        1.000000  \n",
       "75%    359.750000   13.000000    76.000000        1.000000  \n",
       "max    471.000000   30.000000    89.000000       11.000000  "
      ]
     },
     "execution_count": 25,
     "metadata": {},
     "output_type": "execute_result"
    }
   ],
   "source": [
    "#Statistical summary of the numeric values, like percentile, mean, standard deviation etc.\n",
    "df.describe()"
   ]
  },
  {
   "cell_type": "code",
   "execution_count": 9,
   "id": "40f2992f",
   "metadata": {},
   "outputs": [
    {
     "name": "stdout",
     "output_type": "stream",
     "text": [
      "GameID : ['39873-4' '46074-7' '36557-1' '46646-3' '43532-5' '41145-2' '46014-10'\n",
      " '44860-5' '44806-7' '45962-8' '46331-4' '36621-13' '44492-3' '43505-2'\n",
      " '41094-1' '40474-1' '39656-2' '46587-2' '46119-3' '38364-5' '45966-4'\n",
      " '35611-7' '44434-10' '44489-11' '44511-5' '43826-7' '43518-6' '34347-5'\n",
      " '41943-1' '41209-9' '44900-7' '31070-3' '38228-1' '39956-2' '45950-8'\n",
      " '43540-3' '44440-6' '44449-6' '42406-6' '42637-3' '46430-8' '38192-8'\n",
      " '39678-2' '39850-9' '43540-7' '42600-3' '33337-2' '45099-5' '36591-9'\n",
      " '45950-6' '39653-4' '38253-10' '38214-12' '43119-12' '35648-12'\n",
      " '40051-13' '39671-12' '43229-15' '46021-1' '38259-2' '45158-3' '36572-4'\n",
      " '43490-9' '36573-14' '42456-20' '46038-30' '41113-15' '47235-7' '47382-3'\n",
      " '44421-12' '42348-23' '42398-15' '36559-12' '47220-4' '47813-8'\n",
      " '35570-15' '44482-20' '44449-28' '38876-29' '46098-17' '36607-16'\n",
      " '44542-13' '45983-18' '33474-19' '47287-4' '33337-8' '47307-10' '43672-8'\n",
      " '46316-5' '42418-19' '46394-18' '45187-9' '42448-14' '47334-8' '46134-18'\n",
      " '47196-7' '45975-23' '47273-10' '40405-29' '44423-13' '31933-20'\n",
      " '47285-4' '37068-19' '36696-24']\n",
      "39873-4     1\n",
      "46074-7     1\n",
      "44482-20    1\n",
      "35570-15    1\n",
      "47813-8     1\n",
      "           ..\n",
      "31070-3     1\n",
      "44900-7     1\n",
      "41209-9     1\n",
      "41943-1     1\n",
      "36696-24    1\n",
      "Name: GameID, Length: 104, dtype: int64\n",
      "****************************************************************************************************\n",
      "PlayKey_x : ['39873-4-32' '46074-7-26' '36557-1-70' '46646-3-30' '43532-5-69'\n",
      " '41145-2-60' '46014-10-22' '44860-5-52' '44806-7-61' '45962-8-40'\n",
      " '46331-4-44' '36621-13-58' '44492-3-23' '43505-2-49' '41094-1-55'\n",
      " '40474-1-8' '39656-2-38' '46587-2-13' '46119-3-16' '38364-5-23'\n",
      " '45966-4-27' '35611-7-42' '44434-10-31' '44489-11-32' '44511-5-41'\n",
      " '43826-7-12' '43518-6-25' '34347-5-9' '41943-1-12' '41209-9-9'\n",
      " '44900-7-10' '31070-3-7' '38228-1-4' '39956-2-14' '45950-8-18'\n",
      " '43540-3-14' '44440-6-18' '44449-6-13' '42406-6-13' '42637-3-6'\n",
      " '46430-8-6' '38192-8-8' '39678-2-1' '39850-9-2' '43540-7-2' '42600-3-1'\n",
      " nan '42456-20-76' '46038-30-58' '41113-15-63' '47235-7-55' '47382-3-34'\n",
      " '44421-12-41' '42348-23-53' '42398-15-33' '36559-12-65' '47220-4-16'\n",
      " '47813-8-19' '35570-15-35' '44482-20-21' '44449-28-35' '38876-29-14'\n",
      " '46098-17-27' '36607-16-19' '44542-13-20' '45983-18-21' '33474-19-7'\n",
      " '47287-4-16' '33337-8-15' '47307-10-18' '43672-8-9' '46316-5-4'\n",
      " '42418-19-15' '46394-18-3' '45187-9-4' '42448-14-3' '47334-8-1']\n",
      "39873-4-32     1\n",
      "41113-15-63    1\n",
      "47220-4-16     1\n",
      "36559-12-65    1\n",
      "42398-15-33    1\n",
      "              ..\n",
      "44511-5-41     1\n",
      "44489-11-32    1\n",
      "44434-10-31    1\n",
      "35611-7-42     1\n",
      "47334-8-1      1\n",
      "Name: PlayKey_x, Length: 76, dtype: int64\n",
      "****************************************************************************************************\n",
      "BodyPart : ['Knee' 'Ankle' 'Foot' 'Toes' 'Heel']\n",
      "Knee     48\n",
      "Ankle    41\n",
      "Foot      7\n",
      "Toes      7\n",
      "Heel      1\n",
      "Name: BodyPart, dtype: int64\n",
      "****************************************************************************************************\n",
      "Surface : ['Synthetic' 'Natural']\n",
      "Synthetic    56\n",
      "Natural      48\n",
      "Name: Surface, dtype: int64\n",
      "****************************************************************************************************\n",
      "PlayKey_y : ['39873-4-1' '46074-7-1' '36557-1-1' '46646-3-1' '43532-5-1' '41145-2-1'\n",
      " '46014-10-1' '44860-5-1' '44806-7-1' '45962-8-1' '46331-4-1' '36621-13-1'\n",
      " '44492-3-1' '43505-2-1' '41094-1-1' '40474-1-1' '39656-2-1' '46587-2-1'\n",
      " '46119-3-1' '38364-5-1' '45966-4-1' '35611-7-1' '44434-10-1' '44489-11-1'\n",
      " '44511-5-1' '43826-7-1' '43518-6-1' '34347-5-1' '41943-1-1' '41209-9-1'\n",
      " '44900-7-1' '31070-3-1' '38228-1-1' '39956-2-1' '45950-8-1' '43540-3-1'\n",
      " '44440-6-1' '44449-6-1' '42406-6-1' '42637-3-1' '46430-8-1' '38192-8-1'\n",
      " '39678-2-1' '39850-9-1' '43540-7-1' '42600-3-1' '33337-2-1' '45099-5-1'\n",
      " '36591-9-1' '45950-6-1' '39653-4-1' '38253-10-1' '38214-12-1'\n",
      " '43119-12-1' '35648-12-1' '40051-13-1' '39671-12-1' '43229-15-1'\n",
      " '46021-1-1' '38259-2-1' '45158-3-1' '36572-4-1' '43490-9-1' '36573-14-1'\n",
      " '42456-20-1' '46038-30-1' '41113-15-1' '47235-7-1' '47382-3-1'\n",
      " '44421-12-1' '42348-23-1' '42398-15-1' '36559-12-1' '47220-4-11'\n",
      " '47813-8-1' '35570-15-1' '44482-20-1' '44449-28-1' '38876-29-1'\n",
      " '46098-17-1' '36607-16-1' '44542-13-1' '45983-18-1' '33474-19-1'\n",
      " '47287-4-1' '33337-8-1' '47307-10-1' '43672-8-1' '46316-5-1' '42418-19-1'\n",
      " '46394-18-1' '45187-9-1' '42448-14-1' '47334-8-1' '46134-18-1'\n",
      " '47196-7-1' '45975-23-1' '47273-10-1' '40405-29-1' '44423-13-1'\n",
      " '31933-20-1' '47285-4-1' '37068-19-1' '36696-24-1']\n",
      "39873-4-1     1\n",
      "46074-7-1     1\n",
      "44482-20-1    1\n",
      "35570-15-1    1\n",
      "47813-8-1     1\n",
      "             ..\n",
      "31070-3-1     1\n",
      "44900-7-1     1\n",
      "41209-9-1     1\n",
      "41943-1-1     1\n",
      "36696-24-1    1\n",
      "Name: PlayKey_y, Length: 104, dtype: int64\n",
      "****************************************************************************************************\n",
      "RosterPosition : ['Linebacker' 'Safety' 'Wide Receiver' 'Running Back' 'Offensive Lineman'\n",
      " 'Defensive Lineman' 'Cornerback' 'Tight End']\n",
      "Linebacker           23\n",
      "Wide Receiver        23\n",
      "Safety               15\n",
      "Cornerback           12\n",
      "Running Back          9\n",
      "Defensive Lineman     9\n",
      "Offensive Lineman     7\n",
      "Tight End             6\n",
      "Name: RosterPosition, dtype: int64\n",
      "****************************************************************************************************\n",
      "StadiumType : ['Indoors' 'Open' 'Outdoor' 'Retractable Roof' 'Indoor' 'Dome' 'Outddors'\n",
      " 'Outdoors' 'Retr. Roof-Closed' nan 'Closed Dome' 'Oudoor'\n",
      " 'Indoor, Roof Closed' 'Indoor, Open Roof' 'Heinz Field'\n",
      " 'Retr. Roof - Open' 'Domed, closed' 'Retr. Roof - Closed']\n",
      "Outdoor                47\n",
      "Outdoors               11\n",
      "Indoors                10\n",
      "Indoor                  7\n",
      "Retractable Roof        5\n",
      "Dome                    4\n",
      "Open                    3\n",
      "Outddors                2\n",
      "Retr. Roof - Open       2\n",
      "Indoor, Open Roof       1\n",
      "Domed, closed           1\n",
      "Heinz Field             1\n",
      "Retr. Roof-Closed       1\n",
      "Indoor, Roof Closed     1\n",
      "Oudoor                  1\n",
      "Closed Dome             1\n",
      "Retr. Roof - Closed     1\n",
      "Name: StadiumType, dtype: int64\n",
      "****************************************************************************************************\n",
      "FieldType : ['Synthetic' 'Natural']\n",
      "Synthetic    56\n",
      "Natural      48\n",
      "Name: FieldType, dtype: int64\n",
      "****************************************************************************************************\n",
      "Weather : ['Cloudy' 'Partly Cloudy' 'Clear and warm' 'Sunny' 'Indoor' 'Clear' nan\n",
      " 'Controlled Climate' 'Cold'\n",
      " 'Cloudy with periods of rain, thunder possible. Winds shifting to WNW, 10-20 mph.'\n",
      " 'Sun & clouds' 'Indoors' 'Rain' 'Coudy' 'Mostly cloudy' 'Party Cloudy'\n",
      " 'Mostly sunny' 'Fair' 'Cloudy, 50% change of rain' 'Light Rain'\n",
      " 'Mostly Sunny' 'Clear Skies' 'Rain shower' 'Clear skies'\n",
      " 'Cloudy and Cool' 'Sunny and clear' 'N/A (Indoors)' 'Clear and cold'\n",
      " 'Clear and Sunny']\n",
      "Sunny                                                                               18\n",
      "Partly Cloudy                                                                       16\n",
      "Cloudy                                                                              14\n",
      "Clear                                                                                9\n",
      "Indoor                                                                               5\n",
      "Rain                                                                                 4\n",
      "Cold                                                                                 3\n",
      "Indoors                                                                              3\n",
      "Mostly cloudy                                                                        2\n",
      "Cloudy, 50% change of rain                                                           2\n",
      "Controlled Climate                                                                   2\n",
      "Clear skies                                                                          2\n",
      "Mostly sunny                                                                         2\n",
      "Sunny and clear                                                                      1\n",
      "Cloudy and Cool                                                                      1\n",
      "Clear Skies                                                                          1\n",
      "N/A (Indoors)                                                                        1\n",
      "Clear and cold                                                                       1\n",
      "Rain shower                                                                          1\n",
      "Party Cloudy                                                                         1\n",
      "Mostly Sunny                                                                         1\n",
      "Light Rain                                                                           1\n",
      "Fair                                                                                 1\n",
      "Coudy                                                                                1\n",
      "Sun & clouds                                                                         1\n",
      "Cloudy with periods of rain, thunder possible. Winds shifting to WNW, 10-20 mph.     1\n",
      "Clear and warm                                                                       1\n",
      "Clear and Sunny                                                                      1\n",
      "Name: Weather, dtype: int64\n",
      "****************************************************************************************************\n",
      "PlayType : ['Kickoff' 'Pass' 'Rush' 'Punt' 'Kickoff Not Returned' 'Kickoff Returned'\n",
      " 'Punt Returned' 'Extra Point']\n",
      "Rush                    41\n",
      "Pass                    24\n",
      "Kickoff                 23\n",
      "Kickoff Not Returned     9\n",
      "Kickoff Returned         4\n",
      "Punt                     1\n",
      "Punt Returned            1\n",
      "Extra Point              1\n",
      "Name: PlayType, dtype: int64\n",
      "****************************************************************************************************\n",
      "Position : ['OLB' 'SS' 'LB' 'WR' 'RB' 'ILB' 'T' 'C' 'FS' 'DE' 'MLB' 'CB' 'TE' 'DT'\n",
      " 'DB']\n",
      "WR     23\n",
      "OLB    14\n",
      "CB     13\n",
      "RB      9\n",
      "SS      7\n",
      "DE      7\n",
      "FS      6\n",
      "TE      6\n",
      "C       4\n",
      "MLB     4\n",
      "ILB     3\n",
      "T       3\n",
      "LB      2\n",
      "DT      2\n",
      "DB      1\n",
      "Name: Position, dtype: int64\n",
      "****************************************************************************************************\n",
      "PositionGroup : ['LB' 'DB' 'WR' 'RB' 'OL' 'DL' 'TE']\n",
      "DB    27\n",
      "LB    23\n",
      "WR    23\n",
      "RB     9\n",
      "DL     9\n",
      "OL     7\n",
      "TE     6\n",
      "Name: PositionGroup, dtype: int64\n",
      "****************************************************************************************************\n"
     ]
    }
   ],
   "source": [
    "#Printing the unique values of non-numerical columns\n",
    "for feature in df.columns:\n",
    "    if df[feature].dtype == object:\n",
    "        print(str(feature) + ' : ' + str(df[feature].unique()))\n",
    "        print(df[feature].value_counts())\n",
    "        print(\"*\"*100)"
   ]
  },
  {
   "cell_type": "code",
   "execution_count": 27,
   "id": "522b145b",
   "metadata": {},
   "outputs": [
    {
     "data": {
      "text/plain": [
       "Sunny                                                                               18\n",
       "Partly Cloudy                                                                       16\n",
       "Cloudy                                                                              14\n",
       "Clear                                                                                9\n",
       "Indoor                                                                               5\n",
       "Rain                                                                                 4\n",
       "Cold                                                                                 3\n",
       "Indoors                                                                              3\n",
       "Mostly cloudy                                                                        2\n",
       "Cloudy, 50% change of rain                                                           2\n",
       "Controlled Climate                                                                   2\n",
       "Clear skies                                                                          2\n",
       "Mostly sunny                                                                         2\n",
       "Sunny and clear                                                                      1\n",
       "Cloudy and Cool                                                                      1\n",
       "Clear Skies                                                                          1\n",
       "N/A (Indoors)                                                                        1\n",
       "Clear and cold                                                                       1\n",
       "Rain shower                                                                          1\n",
       "Party Cloudy                                                                         1\n",
       "Mostly Sunny                                                                         1\n",
       "Light Rain                                                                           1\n",
       "Fair                                                                                 1\n",
       "Coudy                                                                                1\n",
       "Sun & clouds                                                                         1\n",
       "Cloudy with periods of rain, thunder possible. Winds shifting to WNW, 10-20 mph.     1\n",
       "Clear and warm                                                                       1\n",
       "Clear and Sunny                                                                      1\n",
       "Name: Weather, dtype: int64"
      ]
     },
     "execution_count": 27,
     "metadata": {},
     "output_type": "execute_result"
    }
   ],
   "source": [
    "# Value counts of weather Type\n",
    "df['Weather'].value_counts()"
   ]
  },
  {
   "cell_type": "markdown",
   "id": "67f60d83",
   "metadata": {},
   "source": [
    "Here in the below cell we are mapping the feature values and removing inconsistencies"
   ]
  },
  {
   "cell_type": "code",
   "execution_count": 10,
   "id": "bae819c2",
   "metadata": {},
   "outputs": [],
   "source": [
    "# Cleaning and replacing values to related categories \n",
    "df['Weather'].replace(['Sunny','Clear','Mostly Sunny','Clear and warm','Fair','Clear Skies','Clear skies','Mostly sunny','Clear and Sunny','Sunny and clear'],['Clear','Clear','Clear','Clear','Clear','Clear','Clear','Clear','Clear','Clear'],inplace=True)\n",
    "df['Weather'].replace(['Cloudy','Partly Cloudy','Cold','Mostly cloudy','Cloudy, 50% change of rain','Coudy','Party Cloudy','Clear and cold','Cloudy and Cool','Sun & clouds'],['Cloudy','Cloudy','Cloudy','Cloudy','Cloudy','Cloudy','Cloudy','Cloudy','Cloudy','Cloudy'],inplace=True)\n",
    "df['Weather'].replace(['Rain','Rain shower','Light Rain','Cloudy with periods of rain, thunder possible. Winds shifting to WNW, 10-20 mph.'],['Rain','Rain','Rain','Rain'],inplace=True)\n",
    "df['Weather'].replace(['Indoor','Indoors','Controlled Climate','N/A (Indoors)'],['Indoor','Indoor','Indoor','Indoor'],inplace=True)"
   ]
  },
  {
   "cell_type": "code",
   "execution_count": 11,
   "id": "3f8b5319",
   "metadata": {},
   "outputs": [
    {
     "data": {
      "text/plain": [
       "Outdoor                47\n",
       "Outdoors               11\n",
       "Indoors                10\n",
       "Indoor                  7\n",
       "Retractable Roof        5\n",
       "Dome                    4\n",
       "Open                    3\n",
       "Outddors                2\n",
       "Retr. Roof - Open       2\n",
       "Indoor, Open Roof       1\n",
       "Domed, closed           1\n",
       "Heinz Field             1\n",
       "Retr. Roof-Closed       1\n",
       "Indoor, Roof Closed     1\n",
       "Oudoor                  1\n",
       "Closed Dome             1\n",
       "Retr. Roof - Closed     1\n",
       "Name: StadiumType, dtype: int64"
      ]
     },
     "execution_count": 11,
     "metadata": {},
     "output_type": "execute_result"
    }
   ],
   "source": [
    "# Value counts of Stadium Type\n",
    "df['StadiumType'].value_counts()"
   ]
  },
  {
   "cell_type": "code",
   "execution_count": 12,
   "id": "94518df6",
   "metadata": {},
   "outputs": [],
   "source": [
    "# Cleaning and replacing values to related categories \n",
    "df['StadiumType'].replace(['Outdoor', 'Cloudy', 'Heinz Field','Outdoor', 'Outdoor', 'Outside', 'Outdoor','Outdoor Retr Roof-Open', 'Oudoor', 'Bowl'],['Outdoor','Outdoor','Outdoor','Outdoor','Outdoor','Outdoor','Outdoor','Outdoor','Outdoor','Outdoor'],inplace=True)\n",
    "df['StadiumType'].replace(['Indoors', 'Indoor', 'Indoor, Roof Closed', 'Indoor, Roof Closed','Retractable Roof', 'Retr. Roof-Closed', 'Retr. Roof - Closed', 'Retr. Roof Closed'],['Indoor_closed','Indoor_closed','Indoor_closed','Indoor_closed','Indoor_closed','Indoor_closed','Indoor_closed','Indoor_closed'],inplace=True)\n",
    "df['StadiumType'].replace(['Indoor, Open Roof', 'Open', 'Retr. Roof-Open', 'Retr. Roof - Open'],['Indoor_open','Indoor_open','Indoor_open','Indoor_open'],inplace=True)\n",
    "df['StadiumType'].replace(['Dome', 'Domed, closed', 'Closed Dome', 'Domed', 'Dome, closed'],['Dome_closed','Dome_closed','Dome_closed','Dome_closed','Dome_closed'],inplace=True)"
   ]
  },
  {
   "cell_type": "code",
   "execution_count": 13,
   "id": "bb5e19f9",
   "metadata": {},
   "outputs": [
    {
     "data": {
      "text/html": [
       "<div>\n",
       "<style scoped>\n",
       "    .dataframe tbody tr th:only-of-type {\n",
       "        vertical-align: middle;\n",
       "    }\n",
       "\n",
       "    .dataframe tbody tr th {\n",
       "        vertical-align: top;\n",
       "    }\n",
       "\n",
       "    .dataframe thead th {\n",
       "        text-align: right;\n",
       "    }\n",
       "</style>\n",
       "<table border=\"1\" class=\"dataframe\">\n",
       "  <thead>\n",
       "    <tr style=\"text-align: right;\">\n",
       "      <th></th>\n",
       "      <th>PlayerKey_x</th>\n",
       "      <th>GameID</th>\n",
       "      <th>PlayKey_x</th>\n",
       "      <th>BodyPart</th>\n",
       "      <th>Surface</th>\n",
       "      <th>DM_M1</th>\n",
       "      <th>DM_M7</th>\n",
       "      <th>DM_M28</th>\n",
       "      <th>DM_M42</th>\n",
       "      <th>PlayerKey_y</th>\n",
       "      <th>...</th>\n",
       "      <th>PlayerDay</th>\n",
       "      <th>PlayerGame</th>\n",
       "      <th>StadiumType</th>\n",
       "      <th>FieldType</th>\n",
       "      <th>Temperature</th>\n",
       "      <th>Weather</th>\n",
       "      <th>PlayType</th>\n",
       "      <th>PlayerGamePlay</th>\n",
       "      <th>Position</th>\n",
       "      <th>PositionGroup</th>\n",
       "    </tr>\n",
       "  </thead>\n",
       "  <tbody>\n",
       "    <tr>\n",
       "      <th>0</th>\n",
       "      <td>39873</td>\n",
       "      <td>39873-4</td>\n",
       "      <td>39873-4-32</td>\n",
       "      <td>Knee</td>\n",
       "      <td>Synthetic</td>\n",
       "      <td>1</td>\n",
       "      <td>1</td>\n",
       "      <td>1</td>\n",
       "      <td>1</td>\n",
       "      <td>39873</td>\n",
       "      <td>...</td>\n",
       "      <td>29</td>\n",
       "      <td>4</td>\n",
       "      <td>Indoor_closed</td>\n",
       "      <td>Synthetic</td>\n",
       "      <td>84</td>\n",
       "      <td>Cloudy</td>\n",
       "      <td>Kickoff</td>\n",
       "      <td>1</td>\n",
       "      <td>OLB</td>\n",
       "      <td>LB</td>\n",
       "    </tr>\n",
       "    <tr>\n",
       "      <th>32</th>\n",
       "      <td>46074</td>\n",
       "      <td>46074-7</td>\n",
       "      <td>46074-7-26</td>\n",
       "      <td>Knee</td>\n",
       "      <td>Natural</td>\n",
       "      <td>1</td>\n",
       "      <td>1</td>\n",
       "      <td>0</td>\n",
       "      <td>0</td>\n",
       "      <td>46074</td>\n",
       "      <td>...</td>\n",
       "      <td>50</td>\n",
       "      <td>7</td>\n",
       "      <td>Indoor_open</td>\n",
       "      <td>Natural</td>\n",
       "      <td>76</td>\n",
       "      <td>Cloudy</td>\n",
       "      <td>Kickoff</td>\n",
       "      <td>1</td>\n",
       "      <td>OLB</td>\n",
       "      <td>LB</td>\n",
       "    </tr>\n",
       "    <tr>\n",
       "      <th>58</th>\n",
       "      <td>36557</td>\n",
       "      <td>36557-1</td>\n",
       "      <td>36557-1-70</td>\n",
       "      <td>Ankle</td>\n",
       "      <td>Synthetic</td>\n",
       "      <td>1</td>\n",
       "      <td>1</td>\n",
       "      <td>1</td>\n",
       "      <td>1</td>\n",
       "      <td>36557</td>\n",
       "      <td>...</td>\n",
       "      <td>1</td>\n",
       "      <td>1</td>\n",
       "      <td>Outdoor</td>\n",
       "      <td>Synthetic</td>\n",
       "      <td>63</td>\n",
       "      <td>Clear</td>\n",
       "      <td>Pass</td>\n",
       "      <td>1</td>\n",
       "      <td>SS</td>\n",
       "      <td>DB</td>\n",
       "    </tr>\n",
       "    <tr>\n",
       "      <th>128</th>\n",
       "      <td>46646</td>\n",
       "      <td>46646-3</td>\n",
       "      <td>46646-3-30</td>\n",
       "      <td>Ankle</td>\n",
       "      <td>Natural</td>\n",
       "      <td>1</td>\n",
       "      <td>0</td>\n",
       "      <td>0</td>\n",
       "      <td>0</td>\n",
       "      <td>46646</td>\n",
       "      <td>...</td>\n",
       "      <td>15</td>\n",
       "      <td>3</td>\n",
       "      <td>Outdoor</td>\n",
       "      <td>Natural</td>\n",
       "      <td>80</td>\n",
       "      <td>Cloudy</td>\n",
       "      <td>Kickoff</td>\n",
       "      <td>1</td>\n",
       "      <td>LB</td>\n",
       "      <td>LB</td>\n",
       "    </tr>\n",
       "    <tr>\n",
       "      <th>158</th>\n",
       "      <td>43532</td>\n",
       "      <td>43532-5</td>\n",
       "      <td>43532-5-69</td>\n",
       "      <td>Ankle</td>\n",
       "      <td>Synthetic</td>\n",
       "      <td>1</td>\n",
       "      <td>1</td>\n",
       "      <td>1</td>\n",
       "      <td>1</td>\n",
       "      <td>43532</td>\n",
       "      <td>...</td>\n",
       "      <td>32</td>\n",
       "      <td>5</td>\n",
       "      <td>Indoor_closed</td>\n",
       "      <td>Synthetic</td>\n",
       "      <td>89</td>\n",
       "      <td>Cloudy</td>\n",
       "      <td>Rush</td>\n",
       "      <td>1</td>\n",
       "      <td>WR</td>\n",
       "      <td>WR</td>\n",
       "    </tr>\n",
       "  </tbody>\n",
       "</table>\n",
       "<p>5 rows × 22 columns</p>\n",
       "</div>"
      ],
      "text/plain": [
       "     PlayerKey_x   GameID   PlayKey_x BodyPart    Surface  DM_M1  DM_M7  \\\n",
       "0          39873  39873-4  39873-4-32     Knee  Synthetic      1      1   \n",
       "32         46074  46074-7  46074-7-26     Knee    Natural      1      1   \n",
       "58         36557  36557-1  36557-1-70    Ankle  Synthetic      1      1   \n",
       "128        46646  46646-3  46646-3-30    Ankle    Natural      1      0   \n",
       "158        43532  43532-5  43532-5-69    Ankle  Synthetic      1      1   \n",
       "\n",
       "     DM_M28  DM_M42  PlayerKey_y  ... PlayerDay PlayerGame    StadiumType  \\\n",
       "0         1       1        39873  ...        29          4  Indoor_closed   \n",
       "32        0       0        46074  ...        50          7    Indoor_open   \n",
       "58        1       1        36557  ...         1          1        Outdoor   \n",
       "128       0       0        46646  ...        15          3        Outdoor   \n",
       "158       1       1        43532  ...        32          5  Indoor_closed   \n",
       "\n",
       "     FieldType Temperature Weather  PlayType PlayerGamePlay Position  \\\n",
       "0    Synthetic          84  Cloudy   Kickoff              1      OLB   \n",
       "32     Natural          76  Cloudy   Kickoff              1      OLB   \n",
       "58   Synthetic          63   Clear      Pass              1       SS   \n",
       "128    Natural          80  Cloudy   Kickoff              1       LB   \n",
       "158  Synthetic          89  Cloudy      Rush              1       WR   \n",
       "\n",
       "     PositionGroup  \n",
       "0               LB  \n",
       "32              LB  \n",
       "58              DB  \n",
       "128             LB  \n",
       "158             WR  \n",
       "\n",
       "[5 rows x 22 columns]"
      ]
     },
     "execution_count": 13,
     "metadata": {},
     "output_type": "execute_result"
    }
   ],
   "source": [
    "# Displaying dataset\n",
    "df.head()"
   ]
  },
  {
   "cell_type": "code",
   "execution_count": 14,
   "id": "f27930f3",
   "metadata": {},
   "outputs": [
    {
     "data": {
      "text/plain": [
       "<AxesSubplot: xlabel='BodyPart', ylabel='count'>"
      ]
     },
     "execution_count": 14,
     "metadata": {},
     "output_type": "execute_result"
    },
    {
     "data": {
      "image/png": "[encoded data removed]",
      "text/plain": [
       "<Figure size 640x480 with 1 Axes>"
      ]
     },
     "metadata": {},
     "output_type": "display_data"
    }
   ],
   "source": [
    "# Surface vs Injury Plot\n",
    "sns.countplot(data=df, x='BodyPart', hue= 'Surface')"
   ]
  },
  {
   "cell_type": "markdown",
   "id": "90d6bb2a",
   "metadata": {},
   "source": [
    "Here from above graph we can see the most of the Synthetic injuries are in knee and Ankle."
   ]
  },
  {
   "cell_type": "code",
   "execution_count": 33,
   "id": "cc1cc430",
   "metadata": {},
   "outputs": [
    {
     "data": {
      "text/plain": [
       "<AxesSubplot:xlabel='RosterPosition', ylabel='count'>"
      ]
     },
     "execution_count": 33,
     "metadata": {},
     "output_type": "execute_result"
    },
    {
     "data": {
      "image/png": "[encoded data removed]",
      "text/plain": [
       "<Figure size 1152x432 with 1 Axes>"
      ]
     },
     "metadata": {},
     "output_type": "display_data"
    }
   ],
   "source": [
    "# Surface vs RosterPosition Plot\n",
    "plt.figure(figsize=(16, 6))\n",
    "sns.countplot(data=df, x='RosterPosition', hue= 'Surface')"
   ]
  },
  {
   "cell_type": "code",
   "execution_count": 34,
   "id": "480b1aa9",
   "metadata": {},
   "outputs": [
    {
     "data": {
      "text/plain": [
       "<AxesSubplot:xlabel='Position', ylabel='count'>"
      ]
     },
     "execution_count": 34,
     "metadata": {},
     "output_type": "execute_result"
    },
    {
     "data": {
      "image/png": "[encoded data removed]",
      "text/plain": [
       "<Figure size 1152x432 with 1 Axes>"
      ]
     },
     "metadata": {},
     "output_type": "display_data"
    }
   ],
   "source": [
    "# Surface vs Position Plot\n",
    "plt.figure(figsize=(16, 6))\n",
    "sns.countplot(data=df, x='Position', hue= 'Surface')"
   ]
  },
  {
   "cell_type": "code",
   "execution_count": 35,
   "id": "d2916c93",
   "metadata": {},
   "outputs": [
    {
     "data": {
      "text/plain": [
       "<AxesSubplot:xlabel='PlayType', ylabel='count'>"
      ]
     },
     "execution_count": 35,
     "metadata": {},
     "output_type": "execute_result"
    },
    {
     "data": {
      "image/png": "[encoded data removed]",
      "text/plain": [
       "<Figure size 1152x432 with 1 Axes>"
      ]
     },
     "metadata": {},
     "output_type": "display_data"
    }
   ],
   "source": [
    "# Surface vs PlayType Plot\n",
    "plt.figure(figsize=(16, 6))\n",
    "sns.countplot(data=df, x='PlayType', hue= 'Surface')"
   ]
  },
  {
   "cell_type": "code",
   "execution_count": 36,
   "id": "4de763a5",
   "metadata": {},
   "outputs": [
    {
     "data": {
      "text/plain": [
       "<AxesSubplot:xlabel='DM_M7', ylabel='count'>"
      ]
     },
     "execution_count": 36,
     "metadata": {},
     "output_type": "execute_result"
    },
    {
     "data": {
      "image/png": "[encoded data removed]",
      "text/plain": [
       "<Figure size 432x432 with 1 Axes>"
      ]
     },
     "metadata": {},
     "output_type": "display_data"
    }
   ],
   "source": [
    "# Surface vs DM_M7 Plot\n",
    "plt.figure(figsize=(6, 6))\n",
    "sns.countplot(data=df, x='DM_M7', hue= 'Surface')"
   ]
  },
  {
   "cell_type": "code",
   "execution_count": 37,
   "id": "34688119",
   "metadata": {},
   "outputs": [
    {
     "data": {
      "text/plain": [
       "<AxesSubplot:xlabel='DM_M28', ylabel='count'>"
      ]
     },
     "execution_count": 37,
     "metadata": {},
     "output_type": "execute_result"
    },
    {
     "data": {
      "image/png": "[encoded data removed]",
      "text/plain": [
       "<Figure size 432x432 with 1 Axes>"
      ]
     },
     "metadata": {},
     "output_type": "display_data"
    }
   ],
   "source": [
    "# Surface vs DM_M28 Plot\n",
    "plt.figure(figsize=(6, 6))\n",
    "sns.countplot(data=df, x='DM_M28', hue= 'Surface')"
   ]
  },
  {
   "cell_type": "code",
   "execution_count": 38,
   "id": "b9cf0199",
   "metadata": {},
   "outputs": [
    {
     "data": {
      "text/plain": [
       "<AxesSubplot:xlabel='DM_M42', ylabel='count'>"
      ]
     },
     "execution_count": 38,
     "metadata": {},
     "output_type": "execute_result"
    },
    {
     "data": {
      "image/png": "[encoded data removed]",
      "text/plain": [
       "<Figure size 432x432 with 1 Axes>"
      ]
     },
     "metadata": {},
     "output_type": "display_data"
    }
   ],
   "source": [
    "# Surface vs DM_M42 Plot\n",
    "plt.figure(figsize=(6, 6))\n",
    "sns.countplot(data=df, x='DM_M42', hue= 'Surface')"
   ]
  },
  {
   "cell_type": "code",
   "execution_count": 39,
   "id": "1870eac1",
   "metadata": {},
   "outputs": [
    {
     "data": {
      "text/plain": [
       "<AxesSubplot:xlabel='Weather', ylabel='count'>"
      ]
     },
     "execution_count": 39,
     "metadata": {},
     "output_type": "execute_result"
    },
    {
     "data": {
      "image/png": "[encoded data removed]",
      "text/plain": [
       "<Figure size 720x576 with 1 Axes>"
      ]
     },
     "metadata": {},
     "output_type": "display_data"
    }
   ],
   "source": [
    "# Surface vs Weather Plot\n",
    "plt.figure(figsize=(10, 8))\n",
    "locs, labels = plt.xticks()\n",
    "plt.setp(labels, rotation=45)\n",
    "sns.countplot(data=df, x='Weather', hue= 'Surface')\n"
   ]
  },
  {
   "cell_type": "code",
   "execution_count": 40,
   "id": "bb302822",
   "metadata": {},
   "outputs": [
    {
     "data": {
      "text/plain": [
       "<AxesSubplot:xlabel='StadiumType', ylabel='count'>"
      ]
     },
     "execution_count": 40,
     "metadata": {},
     "output_type": "execute_result"
    },
    {
     "data": {
      "image/png": "[encoded data removed]",
      "text/plain": [
       "<Figure size 1152x432 with 1 Axes>"
      ]
     },
     "metadata": {},
     "output_type": "display_data"
    }
   ],
   "source": [
    "# Surface vs StadiumType Plot\n",
    "plt.figure(figsize=(16, 6))\n",
    "locs, labels = plt.xticks()\n",
    "plt.setp(labels, rotation=45)\n",
    "sns.countplot(data=df, x='StadiumType', hue= 'Surface')"
   ]
  },
  {
   "cell_type": "code",
   "execution_count": 41,
   "id": "3146c772",
   "metadata": {},
   "outputs": [
    {
     "data": {
      "text/plain": [
       "<AxesSubplot:xlabel='Position', ylabel='count'>"
      ]
     },
     "execution_count": 41,
     "metadata": {},
     "output_type": "execute_result"
    },
    {
     "data": {
      "image/png": "[encoded data removed]",
      "text/plain": [
       "<Figure size 1440x432 with 1 Axes>"
      ]
     },
     "metadata": {},
     "output_type": "display_data"
    }
   ],
   "source": [
    "# BodyPart vs Position Plot\n",
    "plt.figure(figsize=(20, 6))\n",
    "sns.countplot(data=df, x='Position', hue= 'BodyPart')"
   ]
  },
  {
   "cell_type": "code",
   "execution_count": 15,
   "id": "b0931bb7",
   "metadata": {},
   "outputs": [
    {
     "data": {
      "text/plain": [
       "<seaborn.axisgrid.FacetGrid at 0x180eee38410>"
      ]
     },
     "execution_count": 15,
     "metadata": {},
     "output_type": "execute_result"
    },
    {
     "data": {
      "image/png": "[encoded data removed]",
      "text/plain": [
       "<Figure size 702.625x600 with 1 Axes>"
      ]
     },
     "metadata": {},
     "output_type": "display_data"
    }
   ],
   "source": [
    "df_In_closed=df[df['StadiumType']==\"Indoor_closed\"]\n",
    "sns.set(style='darkgrid')\n",
    "sns.catplot(y=\"PlayType\", hue=\"Weather\", col=\"FieldType\", data=df_In_closed, kind=\"count\", height=6)"
   ]
  },
  {
   "cell_type": "code",
   "execution_count": 16,
   "id": "612b7520",
   "metadata": {},
   "outputs": [
    {
     "data": {
      "text/plain": [
       "<AxesSubplot: xlabel='Temperature', ylabel='count'>"
      ]
     },
     "execution_count": 16,
     "metadata": {},
     "output_type": "execute_result"
    },
    {
     "data": {
      "image/png": "[encoded data removed]",
      "text/plain": [
       "<Figure size 2000x600 with 1 Axes>"
      ]
     },
     "metadata": {},
     "output_type": "display_data"
    }
   ],
   "source": [
    "# BodyPart vs Tempratures Plot\n",
    "plt.figure(figsize=(20, 6))\n",
    "sns.countplot(data=df, x='Temperature', hue= 'BodyPart')"
   ]
  },
  {
   "cell_type": "markdown",
   "id": "134125bc",
   "metadata": {},
   "source": [
    "### Model Building\n",
    "Here, transforming the features into numeric form for better performance of model"
   ]
  },
  {
   "cell_type": "code",
   "execution_count": 17,
   "id": "ab62fc79",
   "metadata": {},
   "outputs": [],
   "source": [
    "# Creating new feature Injury and  converting bodypart 'Knee','Foot','Ankle' as an injury = 1 and other as notInjury = 0.\n",
    "df['Injury'] = df['BodyPart'].isin(['Knee', 'Foot', 'Ankle']).astype(int)"
   ]
  },
  {
   "cell_type": "code",
   "execution_count": 18,
   "id": "37d26314",
   "metadata": {},
   "outputs": [
    {
     "data": {
      "text/plain": [
       "1    96\n",
       "0     8\n",
       "Name: Injury, dtype: int64"
      ]
     },
     "execution_count": 18,
     "metadata": {},
     "output_type": "execute_result"
    }
   ],
   "source": [
    "df['Injury'].value_counts()"
   ]
  },
  {
   "cell_type": "code",
   "execution_count": 19,
   "id": "cced2672",
   "metadata": {},
   "outputs": [
    {
     "data": {
      "text/html": [
       "<div>\n",
       "<style scoped>\n",
       "    .dataframe tbody tr th:only-of-type {\n",
       "        vertical-align: middle;\n",
       "    }\n",
       "\n",
       "    .dataframe tbody tr th {\n",
       "        vertical-align: top;\n",
       "    }\n",
       "\n",
       "    .dataframe thead th {\n",
       "        text-align: right;\n",
       "    }\n",
       "</style>\n",
       "<table border=\"1\" class=\"dataframe\">\n",
       "  <thead>\n",
       "    <tr style=\"text-align: right;\">\n",
       "      <th></th>\n",
       "      <th>StadiumType</th>\n",
       "      <th>FieldType</th>\n",
       "      <th>Weather</th>\n",
       "      <th>PlayType</th>\n",
       "      <th>Position</th>\n",
       "      <th>Temperature</th>\n",
       "      <th>Injury</th>\n",
       "    </tr>\n",
       "  </thead>\n",
       "  <tbody>\n",
       "    <tr>\n",
       "      <th>0</th>\n",
       "      <td>Indoor_closed</td>\n",
       "      <td>Synthetic</td>\n",
       "      <td>Cloudy</td>\n",
       "      <td>Kickoff</td>\n",
       "      <td>OLB</td>\n",
       "      <td>84</td>\n",
       "      <td>1</td>\n",
       "    </tr>\n",
       "    <tr>\n",
       "      <th>32</th>\n",
       "      <td>Indoor_open</td>\n",
       "      <td>Natural</td>\n",
       "      <td>Cloudy</td>\n",
       "      <td>Kickoff</td>\n",
       "      <td>OLB</td>\n",
       "      <td>76</td>\n",
       "      <td>1</td>\n",
       "    </tr>\n",
       "    <tr>\n",
       "      <th>58</th>\n",
       "      <td>Outdoor</td>\n",
       "      <td>Synthetic</td>\n",
       "      <td>Clear</td>\n",
       "      <td>Pass</td>\n",
       "      <td>SS</td>\n",
       "      <td>63</td>\n",
       "      <td>1</td>\n",
       "    </tr>\n",
       "    <tr>\n",
       "      <th>128</th>\n",
       "      <td>Outdoor</td>\n",
       "      <td>Natural</td>\n",
       "      <td>Cloudy</td>\n",
       "      <td>Kickoff</td>\n",
       "      <td>LB</td>\n",
       "      <td>80</td>\n",
       "      <td>1</td>\n",
       "    </tr>\n",
       "    <tr>\n",
       "      <th>158</th>\n",
       "      <td>Indoor_closed</td>\n",
       "      <td>Synthetic</td>\n",
       "      <td>Cloudy</td>\n",
       "      <td>Rush</td>\n",
       "      <td>WR</td>\n",
       "      <td>89</td>\n",
       "      <td>1</td>\n",
       "    </tr>\n",
       "    <tr>\n",
       "      <th>...</th>\n",
       "      <td>...</td>\n",
       "      <td>...</td>\n",
       "      <td>...</td>\n",
       "      <td>...</td>\n",
       "      <td>...</td>\n",
       "      <td>...</td>\n",
       "      <td>...</td>\n",
       "    </tr>\n",
       "    <tr>\n",
       "      <th>3292</th>\n",
       "      <td>Indoor_open</td>\n",
       "      <td>Synthetic</td>\n",
       "      <td>Clear</td>\n",
       "      <td>Rush</td>\n",
       "      <td>WR</td>\n",
       "      <td>73</td>\n",
       "      <td>1</td>\n",
       "    </tr>\n",
       "    <tr>\n",
       "      <th>3319</th>\n",
       "      <td>Indoor_closed</td>\n",
       "      <td>Synthetic</td>\n",
       "      <td>Cloudy</td>\n",
       "      <td>Pass</td>\n",
       "      <td>TE</td>\n",
       "      <td>84</td>\n",
       "      <td>1</td>\n",
       "    </tr>\n",
       "    <tr>\n",
       "      <th>3345</th>\n",
       "      <td>NaN</td>\n",
       "      <td>Natural</td>\n",
       "      <td>NaN</td>\n",
       "      <td>Rush</td>\n",
       "      <td>WR</td>\n",
       "      <td>68</td>\n",
       "      <td>1</td>\n",
       "    </tr>\n",
       "    <tr>\n",
       "      <th>3361</th>\n",
       "      <td>Outdoor</td>\n",
       "      <td>Natural</td>\n",
       "      <td>Clear</td>\n",
       "      <td>Kickoff Not Returned</td>\n",
       "      <td>OLB</td>\n",
       "      <td>56</td>\n",
       "      <td>1</td>\n",
       "    </tr>\n",
       "    <tr>\n",
       "      <th>3381</th>\n",
       "      <td>Indoor_closed</td>\n",
       "      <td>Synthetic</td>\n",
       "      <td>NaN</td>\n",
       "      <td>Kickoff Not Returned</td>\n",
       "      <td>CB</td>\n",
       "      <td>68</td>\n",
       "      <td>1</td>\n",
       "    </tr>\n",
       "  </tbody>\n",
       "</table>\n",
       "<p>104 rows × 7 columns</p>\n",
       "</div>"
      ],
      "text/plain": [
       "        StadiumType  FieldType Weather              PlayType Position  \\\n",
       "0     Indoor_closed  Synthetic  Cloudy               Kickoff      OLB   \n",
       "32      Indoor_open    Natural  Cloudy               Kickoff      OLB   \n",
       "58          Outdoor  Synthetic   Clear                  Pass       SS   \n",
       "128         Outdoor    Natural  Cloudy               Kickoff       LB   \n",
       "158   Indoor_closed  Synthetic  Cloudy                  Rush       WR   \n",
       "...             ...        ...     ...                   ...      ...   \n",
       "3292    Indoor_open  Synthetic   Clear                  Rush       WR   \n",
       "3319  Indoor_closed  Synthetic  Cloudy                  Pass       TE   \n",
       "3345            NaN    Natural     NaN                  Rush       WR   \n",
       "3361        Outdoor    Natural   Clear  Kickoff Not Returned      OLB   \n",
       "3381  Indoor_closed  Synthetic     NaN  Kickoff Not Returned       CB   \n",
       "\n",
       "      Temperature  Injury  \n",
       "0              84       1  \n",
       "32             76       1  \n",
       "58             63       1  \n",
       "128            80       1  \n",
       "158            89       1  \n",
       "...           ...     ...  \n",
       "3292           73       1  \n",
       "3319           84       1  \n",
       "3345           68       1  \n",
       "3361           56       1  \n",
       "3381           68       1  \n",
       "\n",
       "[104 rows x 7 columns]"
      ]
     },
     "execution_count": 19,
     "metadata": {},
     "output_type": "execute_result"
    }
   ],
   "source": [
    "# Selecting important features \n",
    "df_game = df[['StadiumType','FieldType','Weather', 'PlayType', 'Position', 'Temperature', 'Injury']]\n",
    "df_game"
   ]
  },
  {
   "cell_type": "markdown",
   "id": "dc0d8d6e",
   "metadata": {},
   "source": [
    "Here, Spliting the dataset into input/independent feature and output/dependent labels data sets to the train the model"
   ]
  },
  {
   "cell_type": "code",
   "execution_count": 20,
   "id": "8ca5244e",
   "metadata": {},
   "outputs": [],
   "source": [
    "# Spliting the dataset into input/independent feature and output/dependent labels data sets.\n",
    "features = ['StadiumType','FieldType','Weather', 'PlayType', 'Position', 'Temperature']\n",
    "X = df_game[features]\n",
    "y = df_game['Injury']"
   ]
  },
  {
   "cell_type": "code",
   "execution_count": 21,
   "id": "3f24c4a4",
   "metadata": {},
   "outputs": [],
   "source": [
    "# One Hot Encode the multi-categorical features\n",
    "X = pd.get_dummies(X, columns=['StadiumType','FieldType','Weather', 'PlayType', 'Position'],drop_first=True)"
   ]
  },
  {
   "cell_type": "code",
   "execution_count": 22,
   "id": "4167ccc4",
   "metadata": {},
   "outputs": [],
   "source": [
    "# Spliting the input and label features into 80% training and 20% testing sets\n",
    "X_train, X_test, y_train, y_test = train_test_split(X, y, test_size=0.15, random_state=42)"
   ]
  },
  {
   "cell_type": "markdown",
   "id": "8c99d009",
   "metadata": {},
   "source": [
    "Here, Displaying the shape of training and testing datasets"
   ]
  },
  {
   "cell_type": "code",
   "execution_count": 23,
   "id": "d7bec5e1",
   "metadata": {},
   "outputs": [
    {
     "name": "stdout",
     "output_type": "stream",
     "text": [
      "Shape of Training Features: (88, 31)\n",
      "Shape of Testing Features (16, 31)\n",
      "Shape of Training Labels: (88,)\n",
      "Shape of Testing Labels (16,)\n"
     ]
    }
   ],
   "source": [
    "# Display the shapes of training and testing sets \n",
    "print('Shape of Training Features:',X_train.shape)\n",
    "print('Shape of Testing Features', X_test.shape)\n",
    "print('Shape of Training Labels:',y_train.shape)\n",
    "print('Shape of Testing Labels', y_test.shape)"
   ]
  },
  {
   "cell_type": "markdown",
   "id": "0155a498",
   "metadata": {},
   "source": [
    "Here, Initializing the Logestic Regression model and fitting on training sets"
   ]
  },
  {
   "cell_type": "code",
   "execution_count": 24,
   "id": "bac60017",
   "metadata": {},
   "outputs": [
    {
     "name": "stderr",
     "output_type": "stream",
     "text": [
      "c:\\Users\\abdik\\AppData\\Local\\Programs\\Python\\Python311\\Lib\\site-packages\\sklearn\\linear_model\\_logistic.py:458: ConvergenceWarning: lbfgs failed to converge (status=1):\n",
      "STOP: TOTAL NO. of ITERATIONS REACHED LIMIT.\n",
      "\n",
      "Increase the number of iterations (max_iter) or scale the data as shown in:\n",
      "    https://scikit-learn.org/stable/modules/preprocessing.html\n",
      "Please also refer to the documentation for alternative solver options:\n",
      "    https://scikit-learn.org/stable/modules/linear_model.html#logistic-regression\n",
      "  n_iter_i = _check_optimize_result(\n"
     ]
    },
    {
     "data": {
      "text/html": [
       "<style>#sk-container-id-1 {color: black;background-color: white;}#sk-container-id-1 pre{padding: 0;}#sk-container-id-1 div.sk-toggleable {background-color: white;}#sk-container-id-1 label.sk-toggleable__label {cursor: pointer;display: block;width: 100%;margin-bottom: 0;padding: 0.3em;box-sizing: border-box;text-align: center;}#sk-container-id-1 label.sk-toggleable__label-arrow:before {content: \"▸\";float: left;margin-right: 0.25em;color: #696969;}#sk-container-id-1 label.sk-toggleable__label-arrow:hover:before {color: black;}#sk-container-id-1 div.sk-estimator:hover label.sk-toggleable__label-arrow:before {color: black;}#sk-container-id-1 div.sk-toggleable__content {max-height: 0;max-width: 0;overflow: hidden;text-align: left;background-color: #f0f8ff;}#sk-container-id-1 div.sk-toggleable__content pre {margin: 0.2em;color: black;border-radius: 0.25em;background-color: #f0f8ff;}#sk-container-id-1 input.sk-toggleable__control:checked~div.sk-toggleable__content {max-height: 200px;max-width: 100%;overflow: auto;}#sk-container-id-1 input.sk-toggleable__control:checked~label.sk-toggleable__label-arrow:before {content: \"▾\";}#sk-container-id-1 div.sk-estimator input.sk-toggleable__control:checked~label.sk-toggleable__label {background-color: #d4ebff;}#sk-container-id-1 div.sk-label input.sk-toggleable__control:checked~label.sk-toggleable__label {background-color: #d4ebff;}#sk-container-id-1 input.sk-hidden--visually {border: 0;clip: rect(1px 1px 1px 1px);clip: rect(1px, 1px, 1px, 1px);height: 1px;margin: -1px;overflow: hidden;padding: 0;position: absolute;width: 1px;}#sk-container-id-1 div.sk-estimator {font-family: monospace;background-color: #f0f8ff;border: 1px dotted black;border-radius: 0.25em;box-sizing: border-box;margin-bottom: 0.5em;}#sk-container-id-1 div.sk-estimator:hover {background-color: #d4ebff;}#sk-container-id-1 div.sk-parallel-item::after {content: \"\";width: 100%;border-bottom: 1px solid gray;flex-grow: 1;}#sk-container-id-1 div.sk-label:hover label.sk-toggleable__label {background-color: #d4ebff;}#sk-container-id-1 div.sk-serial::before {content: \"\";position: absolute;border-left: 1px solid gray;box-sizing: border-box;top: 0;bottom: 0;left: 50%;z-index: 0;}#sk-container-id-1 div.sk-serial {display: flex;flex-direction: column;align-items: center;background-color: white;padding-right: 0.2em;padding-left: 0.2em;position: relative;}#sk-container-id-1 div.sk-item {position: relative;z-index: 1;}#sk-container-id-1 div.sk-parallel {display: flex;align-items: stretch;justify-content: center;background-color: white;position: relative;}#sk-container-id-1 div.sk-item::before, #sk-container-id-1 div.sk-parallel-item::before {content: \"\";position: absolute;border-left: 1px solid gray;box-sizing: border-box;top: 0;bottom: 0;left: 50%;z-index: -1;}#sk-container-id-1 div.sk-parallel-item {display: flex;flex-direction: column;z-index: 1;position: relative;background-color: white;}#sk-container-id-1 div.sk-parallel-item:first-child::after {align-self: flex-end;width: 50%;}#sk-container-id-1 div.sk-parallel-item:last-child::after {align-self: flex-start;width: 50%;}#sk-container-id-1 div.sk-parallel-item:only-child::after {width: 0;}#sk-container-id-1 div.sk-dashed-wrapped {border: 1px dashed gray;margin: 0 0.4em 0.5em 0.4em;box-sizing: border-box;padding-bottom: 0.4em;background-color: white;}#sk-container-id-1 div.sk-label label {font-family: monospace;font-weight: bold;display: inline-block;line-height: 1.2em;}#sk-container-id-1 div.sk-label-container {text-align: center;}#sk-container-id-1 div.sk-container {/* jupyter's `normalize.less` sets `[hidden] { display: none; }` but bootstrap.min.css set `[hidden] { display: none !important; }` so we also need the `!important` here to be able to override the default hidden behavior on the sphinx rendered scikit-learn.org. See: https://github.com/scikit-learn/scikit-learn/issues/21755 */display: inline-block !important;position: relative;}#sk-container-id-1 div.sk-text-repr-fallback {display: none;}</style><div id=\"sk-container-id-1\" class=\"sk-top-container\"><div class=\"sk-text-repr-fallback\"><pre>LogisticRegression(random_state=0)</pre><b>In a Jupyter environment, please rerun this cell to show the HTML representation or trust the notebook. <br />On GitHub, the HTML representation is unable to render, please try loading this page with nbviewer.org.</b></div><div class=\"sk-container\" hidden><div class=\"sk-item\"><div class=\"sk-estimator sk-toggleable\"><input class=\"sk-toggleable__control sk-hidden--visually\" id=\"sk-estimator-id-1\" type=\"checkbox\" checked><label for=\"sk-estimator-id-1\" class=\"sk-toggleable__label sk-toggleable__label-arrow\">LogisticRegression</label><div class=\"sk-toggleable__content\"><pre>LogisticRegression(random_state=0)</pre></div></div></div></div></div>"
      ],
      "text/plain": [
       "LogisticRegression(random_state=0)"
      ]
     },
     "execution_count": 24,
     "metadata": {},
     "output_type": "execute_result"
    }
   ],
   "source": [
    "LR_Model = LogisticRegression(random_state=0)\n",
    "# fitting the model to the train data (X_train and y_train)\n",
    "LR_Model.fit(X_train, y_train)"
   ]
  },
  {
   "cell_type": "markdown",
   "id": "9788fe74",
   "metadata": {},
   "source": [
    "Here, predicting the values on testing data or unseen data"
   ]
  },
  {
   "cell_type": "code",
   "execution_count": 25,
   "id": "4494ac9f",
   "metadata": {},
   "outputs": [
    {
     "data": {
      "text/plain": [
       "array([1, 1, 1, 1, 1, 1, 1, 1, 1, 1, 1, 1, 1, 1, 1, 1])"
      ]
     },
     "execution_count": 25,
     "metadata": {},
     "output_type": "execute_result"
    }
   ],
   "source": [
    "# Making predictions with the fit model based on the test data (X_test)\n",
    "y_pred = LR_Model.predict(X_test)\n",
    "# Checking the prediction\n",
    "y_pred"
   ]
  },
  {
   "cell_type": "code",
   "execution_count": 26,
   "id": "82cdbc31",
   "metadata": {},
   "outputs": [
    {
     "name": "stdout",
     "output_type": "stream",
     "text": [
      "Accuracy : 94.0%\n"
     ]
    }
   ],
   "source": [
    "# Here we find the accuracy of model \n",
    "print(f\"Accuracy : {round(accuracy_score(y_test,y_pred),2)*100}%\")"
   ]
  },
  {
   "cell_type": "code",
   "execution_count": 27,
   "id": "1366bebb",
   "metadata": {},
   "outputs": [
    {
     "data": {
      "image/png": "[encoded data removed]",
      "text/plain": [
       "<Figure size 1200x800 with 2 Axes>"
      ]
     },
     "metadata": {},
     "output_type": "display_data"
    }
   ],
   "source": [
    "# Ploting the Confusion Matrix of Actual and Predicted Values\n",
    "plt.figure(figsize=(12,8))\n",
    "c_mat = confusion_matrix(y_test, y_pred)\n",
    "sns.heatmap(c_mat, annot=True, fmt='g')\n",
    "\n",
    "plt.xlabel('Predicted Labels')\n",
    "plt.ylabel('Actual labels') \n",
    "plt.title('Confusion Matrix')\n",
    "plt.show()"
   ]
  },
  {
   "cell_type": "code",
   "execution_count": 28,
   "id": "6a085083",
   "metadata": {},
   "outputs": [
    {
     "name": "stdout",
     "output_type": "stream",
     "text": [
      "              precision    recall  f1-score   support\n",
      "\n",
      "           0       0.00      0.00      0.00         1\n",
      "           1       0.94      1.00      0.97        15\n",
      "\n",
      "    accuracy                           0.94        16\n",
      "   macro avg       0.47      0.50      0.48        16\n",
      "weighted avg       0.88      0.94      0.91        16\n",
      "\n"
     ]
    },
    {
     "name": "stderr",
     "output_type": "stream",
     "text": [
      "c:\\Users\\abdik\\AppData\\Local\\Programs\\Python\\Python311\\Lib\\site-packages\\sklearn\\metrics\\_classification.py:1344: UndefinedMetricWarning: Precision and F-score are ill-defined and being set to 0.0 in labels with no predicted samples. Use `zero_division` parameter to control this behavior.\n",
      "  _warn_prf(average, modifier, msg_start, len(result))\n",
      "c:\\Users\\abdik\\AppData\\Local\\Programs\\Python\\Python311\\Lib\\site-packages\\sklearn\\metrics\\_classification.py:1344: UndefinedMetricWarning: Precision and F-score are ill-defined and being set to 0.0 in labels with no predicted samples. Use `zero_division` parameter to control this behavior.\n",
      "  _warn_prf(average, modifier, msg_start, len(result))\n",
      "c:\\Users\\abdik\\AppData\\Local\\Programs\\Python\\Python311\\Lib\\site-packages\\sklearn\\metrics\\_classification.py:1344: UndefinedMetricWarning: Precision and F-score are ill-defined and being set to 0.0 in labels with no predicted samples. Use `zero_division` parameter to control this behavior.\n",
      "  _warn_prf(average, modifier, msg_start, len(result))\n"
     ]
    }
   ],
   "source": [
    "# Classification Report of Actual and Prediceted Values\n",
    "print(classification_report(y_test, y_pred))"
   ]
  },
  {
   "cell_type": "markdown",
   "id": "97b8d52b",
   "metadata": {},
   "source": [
    "### Summary\n",
    "\n",
    "Football injuries have a substantial impact on both team performance and finances, as millions of dollars are spent on player treatment and replacement. Consequently, numerous studies are being conducted to identify the primary risk factors that contribute to injuries. While knee and ankle injuries are the most common, fortunately, most of these injuries are not severe. However, injuries tend to occur more frequently on synthetic playing surfaces, which can affect player movement and positioning.\n",
    "Our analysis shows that the most common type of injuries are ankle and knee injuries. The analysis also found that running backs and wide receivers were the most commonly injured positions, and temperature have a significant impact on injuries. Furthermore, we have found that offensive and defensive linemen are among the safest positions on the team.\n",
    "\n",
    "\n",
    "The overall accuracy of the model is 0.94, which means that the model correctly classified 94% of the samples in the test dataset.\n",
    "\n",
    "The macro average of precision, recall, and F1-score is calculated by averaging the scores for both classes, which are both very low at 0.47 and 0.50 respectively. This indicates that the model is performing poorly in classifying the minority class (class 0).\n",
    "\n",
    "The weighted average of precision, recall, and F1-score takes into account the class imbalance by weighting the scores by the number of samples in each class. The weighted average shows that the model performs well overall with a weighted F1-score of 0.91. However, the poor performance on the minority class may be a concern, depending on the problem and the specific goals of the model."
   ]
  },
  {
   "cell_type": "code",
   "execution_count": null,
   "id": "7049cdd5",
   "metadata": {},
   "outputs": [],
   "source": []
  }
 ],
 "metadata": {
  "kernelspec": {
   "display_name": "Python 3 (ipykernel)",
   "language": "python",
   "name": "python3"
  },
  "language_info": {
   "codemirror_mode": {
    "name": "ipython",
    "version": 3
   },
   "file_extension": ".py",
   "mimetype": "text/x-python",
   "name": "python",
   "nbconvert_exporter": "python",
   "pygments_lexer": "ipython3",
   "version": "3.11.0"
  }
 },
 "nbformat": 4,
 "nbformat_minor": 5
}
